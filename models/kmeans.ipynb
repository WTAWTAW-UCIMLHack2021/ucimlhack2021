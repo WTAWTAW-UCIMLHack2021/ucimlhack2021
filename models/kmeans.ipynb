{
 "cells": [
  {
   "cell_type": "code",
   "execution_count": 274,
   "id": "924711fb",
   "metadata": {},
   "outputs": [],
   "source": [
    "# Allow Python to find our own project modules\n",
    "import os\n",
    "import sys\n",
    "module_path = os.path.abspath(os.path.join('..'))\n",
    "if module_path not in sys.path:\n",
    "    sys.path.append(module_path)"
   ]
  },
  {
   "cell_type": "code",
   "execution_count": 275,
   "id": "d2629a23",
   "metadata": {},
   "outputs": [],
   "source": [
    "import numpy as np \n",
    "import pandas as pd \n",
    "import matplotlib.pyplot as plt\n",
    "import seaborn as sns\n",
    "from sklearn.feature_extraction import text\n",
    "from sklearn.feature_extraction.text import TfidfVectorizer\n",
    "from sklearn.cluster import KMeans\n",
    "# from nltk.tokenize import RegexpTokenizer\n",
    "# from nltk.stem.snowball import SnowballStemmer\n",
    "\n",
    "from util import util, cross_validation\n",
    "# automatic linebreaks and multi-line cells.\n",
    "pd.set_option('display.max_colwidth', None)"
   ]
  },
  {
   "cell_type": "code",
   "execution_count": 276,
   "id": "6d322082-5abb-4304-8f25-f82edf9790d1",
   "metadata": {},
   "outputs": [],
   "source": [
    "covidlies_clean = pd.read_csv('../data/covid_lies_processed.csv')\n",
    "# Ensure each row represents a unique tweet by content\n",
    "df = covidlies_clean.drop_duplicates(['tweet', 'label'])"
   ]
  },
  {
   "cell_type": "code",
   "execution_count": 296,
   "id": "95ec5196",
   "metadata": {},
   "outputs": [],
   "source": [
    "vectorizer = TfidfVectorizer(stop_words=['coronavirus'])\n",
    "X = vectorizer.fit_transform(df.tweet)"
   ]
  },
  {
   "cell_type": "code",
   "execution_count": 297,
   "id": "46be2537",
   "metadata": {},
   "outputs": [],
   "source": [
    "word_features = vectorizer.get_feature_names()"
   ]
  },
  {
   "cell_type": "code",
   "execution_count": 298,
   "id": "262f52a9",
   "metadata": {},
   "outputs": [
    {
     "data": {
      "text/plain": [
       "KMeans(n_clusters=3)"
      ]
     },
     "execution_count": 298,
     "metadata": {},
     "output_type": "execute_result"
    }
   ],
   "source": [
    "kmeans = KMeans(n_clusters = 3)\n",
    "kmeans.fit(X)"
   ]
  },
  {
   "cell_type": "code",
   "execution_count": 299,
   "id": "809212ee",
   "metadata": {},
   "outputs": [],
   "source": [
    "words = vectorizer.get_feature_names()"
   ]
  },
  {
   "cell_type": "markdown",
   "id": "aaa6df8a-ce88-4c71-9e59-c630467bd83f",
   "metadata": {},
   "source": [
    "### Top Words by Cluster"
   ]
  },
  {
   "cell_type": "code",
   "execution_count": 300,
   "id": "c0483062",
   "metadata": {},
   "outputs": [
    {
     "name": "stdout",
     "output_type": "stream",
     "text": [
      "0 : first, case, death, coronavirus19, confirm, die, man, report, state, washington\n",
      "1 : flu, rate, mortality, coronavirus19, people, death, deadly, seasonal, die, case\n",
      "2 : coronavirus19, people, china, virus, spread, say, hand, get, outbreak, test\n"
     ]
    }
   ],
   "source": [
    "common_words = kmeans.cluster_centers_.argsort()[:,-1:-11:-1]\n",
    "for num, centroid in enumerate(common_words):\n",
    "    print(str(num) + ' : ' + ', '.join(words[word] for word in centroid))"
   ]
  },
  {
   "cell_type": "markdown",
   "id": "cc699683-3682-48cf-8440-c8bd17f2cf43",
   "metadata": {},
   "source": [
    "### Label Each Row with the cluster it was assigned to"
   ]
  },
  {
   "cell_type": "code",
   "execution_count": 301,
   "id": "53c519fc",
   "metadata": {},
   "outputs": [
    {
     "name": "stderr",
     "output_type": "stream",
     "text": [
      "<ipython-input-301-1aef0cafce89>:1: SettingWithCopyWarning: \n",
      "A value is trying to be set on a copy of a slice from a DataFrame.\n",
      "Try using .loc[row_indexer,col_indexer] = value instead\n",
      "\n",
      "See the caveats in the documentation: https://pandas.pydata.org/pandas-docs/stable/user_guide/indexing.html#returning-a-view-versus-a-copy\n",
      "  df['cluster'] = kmeans.labels_\n"
     ]
    }
   ],
   "source": [
    "df['cluster'] = kmeans.labels_"
   ]
  },
  {
   "cell_type": "code",
   "execution_count": 302,
   "id": "3e8bc66c-719e-49a1-a725-7fdf9e8c29e5",
   "metadata": {},
   "outputs": [
    {
     "data": {
      "text/plain": [
       "2    3376\n",
       "0     394\n",
       "1     329\n",
       "Name: cluster, dtype: int64"
      ]
     },
     "execution_count": 302,
     "metadata": {},
     "output_type": "execute_result"
    }
   ],
   "source": [
    "df.cluster.value_counts()"
   ]
  },
  {
   "cell_type": "code",
   "execution_count": 303,
   "id": "94c34247",
   "metadata": {},
   "outputs": [
    {
     "data": {
      "text/plain": [
       "na     3721\n",
       "pos     234\n",
       "neg     144\n",
       "Name: label, dtype: int64"
      ]
     },
     "execution_count": 303,
     "metadata": {},
     "output_type": "execute_result"
    }
   ],
   "source": [
    "df.label.value_counts()"
   ]
  },
  {
   "cell_type": "code",
   "execution_count": 304,
   "id": "1c344c5b",
   "metadata": {},
   "outputs": [
    {
     "data": {
      "image/png": "[encoded data removed]",
      "text/plain": [
       "<Figure size 2160x1080 with 2 Axes>"
      ]
     },
     "metadata": {
      "needs_background": "light"
     },
     "output_type": "display_data"
    }
   ],
   "source": [
    "clusters = df.groupby(['cluster', 'label']).size()\n",
    "fig2, ax2 = plt.subplots(figsize = (30, 15))\n",
    "\n",
    "cluster_by_label = clusters.unstack(level = 'label')\n",
    "cluster_by_label['na'] = cluster_by_label.na / sum(cluster_by_label.na)\n",
    "cluster_by_label['pos'] = cluster_by_label.pos / sum(cluster_by_label.pos)\n",
    "cluster_by_label['neg'] = cluster_by_label.neg / sum(cluster_by_label.neg)\n",
    "\n",
    "plot = sns.heatmap(cluster_by_label, ax = ax2, cmap = 'Reds')"
   ]
  },
  {
   "cell_type": "code",
   "execution_count": 305,
   "id": "19ef6c16-1649-40d2-b588-32af0d4621ca",
   "metadata": {},
   "outputs": [
    {
     "data": {
      "text/html": [
       "<div>\n",
       "<style scoped>\n",
       "    .dataframe tbody tr th:only-of-type {\n",
       "        vertical-align: middle;\n",
       "    }\n",
       "\n",
       "    .dataframe tbody tr th {\n",
       "        vertical-align: top;\n",
       "    }\n",
       "\n",
       "    .dataframe thead th {\n",
       "        text-align: right;\n",
       "    }\n",
       "</style>\n",
       "<table border=\"1\" class=\"dataframe\">\n",
       "  <thead>\n",
       "    <tr style=\"text-align: right;\">\n",
       "      <th>label</th>\n",
       "      <th>na</th>\n",
       "      <th>neg</th>\n",
       "      <th>pos</th>\n",
       "    </tr>\n",
       "    <tr>\n",
       "      <th>cluster</th>\n",
       "      <th></th>\n",
       "      <th></th>\n",
       "      <th></th>\n",
       "    </tr>\n",
       "  </thead>\n",
       "  <tbody>\n",
       "    <tr>\n",
       "      <th>0</th>\n",
       "      <td>0.104273</td>\n",
       "      <td>0.020833</td>\n",
       "      <td>0.012821</td>\n",
       "    </tr>\n",
       "    <tr>\n",
       "      <th>1</th>\n",
       "      <td>0.066380</td>\n",
       "      <td>0.409722</td>\n",
       "      <td>0.098291</td>\n",
       "    </tr>\n",
       "    <tr>\n",
       "      <th>2</th>\n",
       "      <td>0.829347</td>\n",
       "      <td>0.569444</td>\n",
       "      <td>0.888889</td>\n",
       "    </tr>\n",
       "  </tbody>\n",
       "</table>\n",
       "</div>"
      ],
      "text/plain": [
       "label          na       neg       pos\n",
       "cluster                              \n",
       "0        0.104273  0.020833  0.012821\n",
       "1        0.066380  0.409722  0.098291\n",
       "2        0.829347  0.569444  0.888889"
      ]
     },
     "execution_count": 305,
     "metadata": {},
     "output_type": "execute_result"
    }
   ],
   "source": [
    "cluster_by_label"
   ]
  }
 ],
 "metadata": {
  "kernelspec": {
   "display_name": "uciml",
   "language": "python",
   "name": "uciml"
  },
  "language_info": {
   "codemirror_mode": {
    "name": "ipython",
    "version": 3
   },
   "file_extension": ".py",
   "mimetype": "text/x-python",
   "name": "python",
   "nbconvert_exporter": "python",
   "pygments_lexer": "ipython3",
   "version": "3.8.10"
  }
 },
 "nbformat": 4,
 "nbformat_minor": 5
}
