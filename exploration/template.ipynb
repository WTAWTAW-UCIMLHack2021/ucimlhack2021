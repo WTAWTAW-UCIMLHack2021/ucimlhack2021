{
 "cells": [
  {
   "cell_type": "code",
   "execution_count": 2,
   "metadata": {},
   "outputs": [],
   "source": [
    "import pandas as pd\n",
    "import numpy as np\n",
    "import seaborn as sns\n",
    "import matplotlib.pyplot as plt\n",
    "\n",
    "sns.set() # Sets up Seaborn default styles"
   ]
  },
  {
   "cell_type": "markdown",
   "metadata": {},
   "source": [
    "## Data Import"
   ]
  },
  {
   "cell_type": "code",
   "execution_count": 3,
   "metadata": {},
   "outputs": [],
   "source": [
    "# Read the CSV file into a Pandas DataFrame\n",
    "df = pd.read_csv('../data/covid_lies.csv')"
   ]
  },
  {
   "cell_type": "code",
   "execution_count": 4,
   "metadata": {},
   "outputs": [],
   "source": [
    "# Keys are misconception IDs, values are the misconception in English\n",
    "misonception_map = pd.Series(df.misconception.values, index = df.misconception_id).to_dict()"
   ]
  },
  {
   "cell_type": "markdown",
   "metadata": {},
   "source": [
    "## Segmented DataFrames"
   ]
  },
  {
   "cell_type": "code",
   "execution_count": 22,
   "metadata": {},
   "outputs": [
    {
     "data": {
      "text/plain": [
       "na     6149\n",
       "pos     288\n",
       "neg     154\n",
       "Name: label, dtype: int64"
      ]
     },
     "execution_count": 22,
     "metadata": {},
     "output_type": "execute_result"
    }
   ],
   "source": [
    "# Dataframe of (tweet, misconception) pairs that either agree with (pos), reject (neg), or take no stance (na) towards the misconception\n",
    "pos = df[df.label == 'pos']\n",
    "neg = df[df.label == 'neg']\n",
    "na = df[df.label == 'na']\n",
    "# Prints number of rows in each dataframe\n",
    "df.label.value_counts()"
   ]
  },
  {
   "cell_type": "code",
   "execution_count": 24,
   "metadata": {},
   "outputs": [
    {
     "name": "stdout",
     "output_type": "stream",
     "text": [
      "There are 4371 unique tweets\n"
     ]
    }
   ],
   "source": [
    "# Counts the number of times a tweet appears in a (tweet, misconception) pair\n",
    "sorted_tweet_ids  = df.groupby('tweet_id').tweet.count().sort_values(ascending = False)\n",
    "print(f\"There are {len(sorted_tweet_ids)} unique tweets\")"
   ]
  },
  {
   "cell_type": "markdown",
   "metadata": {},
   "source": [
    "### Stance Distribution by Misconception"
   ]
  },
  {
   "cell_type": "code",
   "execution_count": 25,
   "metadata": {},
   "outputs": [
    {
     "data": {
      "text/plain": [
       "<AxesSubplot:xlabel='misconception_id', ylabel='count'>"
      ]
     },
     "execution_count": 25,
     "metadata": {},
     "output_type": "execute_result"
    },
    {
     "data": {
      "image/png": "[encoded data removed]",
      "text/plain": [
       "<Figure size 1440x432 with 1 Axes>"
      ]
     },
     "metadata": {},
     "output_type": "display_data"
    }
   ],
   "source": [
    "# Sets the size of the figure to be wider\n",
    "plt.figure(figsize = (20, 6))\n",
    "sns.countplot(x = 'misconception_id', data = df, hue = 'label')"
   ]
  },
  {
   "cell_type": "code",
   "execution_count": 26,
   "metadata": {},
   "outputs": [
    {
     "name": "stdout",
     "output_type": "stream",
     "text": [
      "Misconception 51 is COVID-19 is only as deadly as the seasonal flu.\n"
     ]
    },
    {
     "data": {
      "text/html": [
       "<div>\n",
       "<style scoped>\n",
       "    .dataframe tbody tr th:only-of-type {\n",
       "        vertical-align: middle;\n",
       "    }\n",
       "\n",
       "    .dataframe tbody tr th {\n",
       "        vertical-align: top;\n",
       "    }\n",
       "\n",
       "    .dataframe thead th {\n",
       "        text-align: right;\n",
       "    }\n",
       "</style>\n",
       "<table border=\"1\" class=\"dataframe\">\n",
       "  <thead>\n",
       "    <tr style=\"text-align: right;\">\n",
       "      <th></th>\n",
       "      <th>misconception_id</th>\n",
       "      <th>misconception</th>\n",
       "      <th>tweet</th>\n",
       "      <th>tweet_id</th>\n",
       "      <th>label</th>\n",
       "    </tr>\n",
       "  </thead>\n",
       "  <tbody>\n",
       "    <tr>\n",
       "      <th>143</th>\n",
       "      <td>51</td>\n",
       "      <td>COVID-19 is only as deadly as the seasonal flu.</td>\n",
       "      <td>“Most people (not elderly, no underlying healt...</td>\n",
       "      <td>1233920123183828992</td>\n",
       "      <td>na</td>\n",
       "    </tr>\n",
       "    <tr>\n",
       "      <th>169</th>\n",
       "      <td>51</td>\n",
       "      <td>COVID-19 is only as deadly as the seasonal flu.</td>\n",
       "      <td>@USERNAME Save your comments, ie sharpie/weath...</td>\n",
       "      <td>1233953724025884672</td>\n",
       "      <td>pos</td>\n",
       "    </tr>\n",
       "    <tr>\n",
       "      <th>188</th>\n",
       "      <td>51</td>\n",
       "      <td>COVID-19 is only as deadly as the seasonal flu.</td>\n",
       "      <td>@USERNAME @USERNAME Closer to 650,000 people w...</td>\n",
       "      <td>1233933151682121728</td>\n",
       "      <td>neg</td>\n",
       "    </tr>\n",
       "    <tr>\n",
       "      <th>471</th>\n",
       "      <td>51</td>\n",
       "      <td>COVID-19 is only as deadly as the seasonal flu.</td>\n",
       "      <td>Covid-19 is about 43 times more deadly if you ...</td>\n",
       "      <td>1233939769475751936</td>\n",
       "      <td>neg</td>\n",
       "    </tr>\n",
       "    <tr>\n",
       "      <th>521</th>\n",
       "      <td>51</td>\n",
       "      <td>COVID-19 is only as deadly as the seasonal flu.</td>\n",
       "      <td>@USERNAME @USERNAME @USERNAME @USERNAME Part t...</td>\n",
       "      <td>1233981832078729216</td>\n",
       "      <td>neg</td>\n",
       "    </tr>\n",
       "    <tr>\n",
       "      <th>...</th>\n",
       "      <td>...</td>\n",
       "      <td>...</td>\n",
       "      <td>...</td>\n",
       "      <td>...</td>\n",
       "      <td>...</td>\n",
       "    </tr>\n",
       "    <tr>\n",
       "      <th>6212</th>\n",
       "      <td>51</td>\n",
       "      <td>COVID-19 is only as deadly as the seasonal flu.</td>\n",
       "      <td>Everything you said is true plus 1 more thing....</td>\n",
       "      <td>1233942018264633344</td>\n",
       "      <td>pos</td>\n",
       "    </tr>\n",
       "    <tr>\n",
       "      <th>6217</th>\n",
       "      <td>51</td>\n",
       "      <td>COVID-19 is only as deadly as the seasonal flu.</td>\n",
       "      <td>New research suggests COVID-19 is 20 times mor...</td>\n",
       "      <td>1233982133305139200</td>\n",
       "      <td>neg</td>\n",
       "    </tr>\n",
       "    <tr>\n",
       "      <th>6251</th>\n",
       "      <td>51</td>\n",
       "      <td>COVID-19 is only as deadly as the seasonal flu.</td>\n",
       "      <td>9/13 Could be problematic if breaks out among ...</td>\n",
       "      <td>1233954373421740032</td>\n",
       "      <td>pos</td>\n",
       "    </tr>\n",
       "    <tr>\n",
       "      <th>6383</th>\n",
       "      <td>51</td>\n",
       "      <td>COVID-19 is only as deadly as the seasonal flu.</td>\n",
       "      <td>@USERNAME @USERNAME @USERNAME @USERNAME If COV...</td>\n",
       "      <td>1233928499846696960</td>\n",
       "      <td>neg</td>\n",
       "    </tr>\n",
       "    <tr>\n",
       "      <th>6574</th>\n",
       "      <td>51</td>\n",
       "      <td>COVID-19 is only as deadly as the seasonal flu.</td>\n",
       "      <td>@USERNAME @USERNAME @USERNAME @USERNAME o far ...</td>\n",
       "      <td>1233946944285937664</td>\n",
       "      <td>neg</td>\n",
       "    </tr>\n",
       "  </tbody>\n",
       "</table>\n",
       "<p>100 rows × 5 columns</p>\n",
       "</div>"
      ],
      "text/plain": [
       "      misconception_id                                    misconception  \\\n",
       "143                 51  COVID-19 is only as deadly as the seasonal flu.   \n",
       "169                 51  COVID-19 is only as deadly as the seasonal flu.   \n",
       "188                 51  COVID-19 is only as deadly as the seasonal flu.   \n",
       "471                 51  COVID-19 is only as deadly as the seasonal flu.   \n",
       "521                 51  COVID-19 is only as deadly as the seasonal flu.   \n",
       "...                ...                                              ...   \n",
       "6212                51  COVID-19 is only as deadly as the seasonal flu.   \n",
       "6217                51  COVID-19 is only as deadly as the seasonal flu.   \n",
       "6251                51  COVID-19 is only as deadly as the seasonal flu.   \n",
       "6383                51  COVID-19 is only as deadly as the seasonal flu.   \n",
       "6574                51  COVID-19 is only as deadly as the seasonal flu.   \n",
       "\n",
       "                                                  tweet             tweet_id  \\\n",
       "143   “Most people (not elderly, no underlying healt...  1233920123183828992   \n",
       "169   @USERNAME Save your comments, ie sharpie/weath...  1233953724025884672   \n",
       "188   @USERNAME @USERNAME Closer to 650,000 people w...  1233933151682121728   \n",
       "471   Covid-19 is about 43 times more deadly if you ...  1233939769475751936   \n",
       "521   @USERNAME @USERNAME @USERNAME @USERNAME Part t...  1233981832078729216   \n",
       "...                                                 ...                  ...   \n",
       "6212  Everything you said is true plus 1 more thing....  1233942018264633344   \n",
       "6217  New research suggests COVID-19 is 20 times mor...  1233982133305139200   \n",
       "6251  9/13 Could be problematic if breaks out among ...  1233954373421740032   \n",
       "6383  @USERNAME @USERNAME @USERNAME @USERNAME If COV...  1233928499846696960   \n",
       "6574  @USERNAME @USERNAME @USERNAME @USERNAME o far ...  1233946944285937664   \n",
       "\n",
       "     label  \n",
       "143     na  \n",
       "169    pos  \n",
       "188    neg  \n",
       "471    neg  \n",
       "521    neg  \n",
       "...    ...  \n",
       "6212   pos  \n",
       "6217   neg  \n",
       "6251   pos  \n",
       "6383   neg  \n",
       "6574   neg  \n",
       "\n",
       "[100 rows x 5 columns]"
      ]
     },
     "execution_count": 26,
     "metadata": {},
     "output_type": "execute_result"
    }
   ],
   "source": [
    "print(f\"Misconception 51 is {misonception_map[51]}\")\n",
    "# Get all rows where the misconception ID is 51\n",
    "df[df.misconception_id == 51]"
   ]
  }
 ],
 "metadata": {
  "kernelspec": {
   "display_name": "Python 3",
   "language": "python",
   "name": "python3"
  },
  "language_info": {
   "codemirror_mode": {
    "name": "ipython",
    "version": 3
   },
   "file_extension": ".py",
   "mimetype": "text/x-python",
   "name": "python",
   "nbconvert_exporter": "python",
   "pygments_lexer": "ipython3",
   "version": "3.8.5"
  }
 },
 "nbformat": 4,
 "nbformat_minor": 5
}